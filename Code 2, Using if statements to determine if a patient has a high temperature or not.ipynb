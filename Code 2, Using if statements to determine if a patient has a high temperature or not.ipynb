{
 "cells": [
  {
   "cell_type": "code",
   "execution_count": 3,
   "id": "326ae73a",
   "metadata": {},
   "outputs": [
    {
     "name": "stdout",
     "output_type": "stream",
     "text": [
      "Enter patients temperature: 100\n",
      "High Temperature\n"
     ]
    }
   ],
   "source": [
    "patientTemperature = float(input(\"Enter patients temperature: \"))\n",
    "if (patientTemperature >= 99.5):\n",
    "    print(\"High Temperature\")\n",
    "elif (patientTemperature < 99.5):\n",
    "        print(\"Normal Temperature\")"
   ]
  },
  {
   "cell_type": "code",
   "execution_count": 4,
   "id": "70aebb04",
   "metadata": {},
   "outputs": [
    {
     "name": "stdout",
     "output_type": "stream",
     "text": [
      "Enter patients temperature: 98\n",
      "Normal Temperature\n"
     ]
    }
   ],
   "source": [
    "patientTemperature = float(input(\"Enter patients temperature: \"))\n",
    "if (patientTemperature >= 99.5):\n",
    "    print(\"High Temperature\")\n",
    "elif (patientTemperature < 99.5):\n",
    "        print(\"Normal Temperature\")"
   ]
  }
 ],
 "metadata": {
  "kernelspec": {
   "display_name": "Python 3 (ipykernel)",
   "language": "python",
   "name": "python3"
  },
  "language_info": {
   "codemirror_mode": {
    "name": "ipython",
    "version": 3
   },
   "file_extension": ".py",
   "mimetype": "text/x-python",
   "name": "python",
   "nbconvert_exporter": "python",
   "pygments_lexer": "ipython3",
   "version": "3.11.4"
  }
 },
 "nbformat": 4,
 "nbformat_minor": 5
}
